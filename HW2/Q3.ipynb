{
 "cells": [
  {
   "cell_type": "code",
   "execution_count": 13,
   "metadata": {},
   "outputs": [
    {
     "name": "stdout",
     "output_type": "stream",
     "text": [
      "bias:  -0.04174697043376041\n",
      "variance:  0.00013182441700960304\n"
     ]
    }
   ],
   "source": [
    "# Imagine you fit three regression models on i.i.d. data samples D1, D2, D3 and obtain the\n",
    "# following models\n",
    "# y = x - 0.1\n",
    "# y = 3x + 0.1\n",
    "# y = 5x+0.2\n",
    "# Compute for x0 = 0.1 the sample\n",
    "# a) bias   \n",
    "# b) variance\n",
    "# c) mean squared error\n",
    "\n",
    "import numpy as np\n",
    "import matplotlib.pyplot as plt\n",
    "import pandas as pd\n",
    "import seaborn as sns\n",
    "from sklearn.linear_model import LinearRegression\n",
    "from sklearn.metrics import mean_squared_error\n",
    "from sklearn.model_selection import train_test_split\n",
    "from sklearn.preprocessing import PolynomialFeatures\n",
    "from sklearn.pipeline import Pipeline\n",
    "from sklearn.preprocessing import StandardScaler\n",
    "from sklearn.model_selection import cross_val_score\n",
    "from sklearn.model_selection import KFold\n",
    "from sklearn.model_selection import GridSearchCV\n",
    "\n",
    "x0 = 0.1\n",
    "yStar= np.tan(np.pi*x0)\n",
    "y0 = x0 - 0.1\n",
    "y1 = 3*x0 + 0.1\n",
    "y2 = 5*x0 + 0.2\n",
    "\n",
    "bias =  yStar -(y0 - yStar + y1 - yStar + y2 -yStar)/3 \n",
    "print(\"bias: \", bias)\n",
    "\n",
    "variance = ((((y0 + y1 + y2)/3  - y0) + ((y0 + y1 + y2)/3  -y1)**2 + ((y0 + y1 + y2)/3  -y2))/3)**2\n",
    "print(\"variance: \", variance)\n"
   ]
  },
  {
   "cell_type": "code",
   "execution_count": null,
   "metadata": {},
   "outputs": [],
   "source": []
  },
  {
   "cell_type": "code",
   "execution_count": null,
   "metadata": {},
   "outputs": [],
   "source": []
  }
 ],
 "metadata": {
  "kernelspec": {
   "display_name": "Python 3",
   "language": "python",
   "name": "python3"
  },
  "language_info": {
   "codemirror_mode": {
    "name": "ipython",
    "version": 3
   },
   "file_extension": ".py",
   "mimetype": "text/x-python",
   "name": "python",
   "nbconvert_exporter": "python",
   "pygments_lexer": "ipython3",
   "version": "3.11.0"
  },
  "orig_nbformat": 4,
  "vscode": {
   "interpreter": {
    "hash": "0cf8ac0564ff7ae2cd6c6c9480ee3a7abc898a9b4955a7154d54a31a99640393"
   }
  }
 },
 "nbformat": 4,
 "nbformat_minor": 2
}

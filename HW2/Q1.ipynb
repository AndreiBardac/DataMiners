{
 "cells": [
  {
   "cell_type": "code",
   "execution_count": 19,
   "metadata": {},
   "outputs": [],
   "source": [
    "import pandas as pd\n",
    "import numpy as np\n",
    "\n",
    "import sklearn\n",
    "from sklearn import datasets\n",
    "from sklearn.preprocessing import PolynomialFeatures\n",
    "from sklearn.linear_model import LinearRegression"
   ]
  },
  {
   "cell_type": "code",
   "execution_count": 20,
   "metadata": {},
   "outputs": [
    {
     "name": "stdout",
     "output_type": "stream",
     "text": [
      "[[   8.3252       41.            6.98412698 ...    2.55555556\n",
      "    37.88       -122.23      ]\n",
      " [   8.3014       21.            6.23813708 ...    2.10984183\n",
      "    37.86       -122.22      ]\n",
      " [   7.2574       52.            8.28813559 ...    2.80225989\n",
      "    37.85       -122.24      ]\n",
      " ...\n",
      " [   1.7          17.            5.20554273 ...    2.3256351\n",
      "    39.43       -121.22      ]\n",
      " [   1.8672       18.            5.32951289 ...    2.12320917\n",
      "    39.43       -121.32      ]\n",
      " [   2.3886       16.            5.25471698 ...    2.61698113\n",
      "    39.37       -121.24      ]]\n"
     ]
    }
   ],
   "source": [
    "california = datasets.fetch_california_housing(as_frame=False)\n",
    "print(california.data)\n"
   ]
  },
  {
   "cell_type": "code",
   "execution_count": 21,
   "metadata": {},
   "outputs": [
    {
     "data": {
      "text/plain": [
       "array(['1', 'MedInc', 'HouseAge', 'AveRooms', 'AveBedrms', 'Population',\n",
       "       'AveOccup', 'Latitude', 'Longitude', 'MedInc^2', 'MedInc HouseAge',\n",
       "       'MedInc AveRooms', 'MedInc AveBedrms', 'MedInc Population',\n",
       "       'MedInc AveOccup', 'MedInc Latitude', 'MedInc Longitude',\n",
       "       'HouseAge^2', 'HouseAge AveRooms', 'HouseAge AveBedrms',\n",
       "       'HouseAge Population', 'HouseAge AveOccup', 'HouseAge Latitude',\n",
       "       'HouseAge Longitude', 'AveRooms^2', 'AveRooms AveBedrms',\n",
       "       'AveRooms Population', 'AveRooms AveOccup', 'AveRooms Latitude',\n",
       "       'AveRooms Longitude', 'AveBedrms^2', 'AveBedrms Population',\n",
       "       'AveBedrms AveOccup', 'AveBedrms Latitude', 'AveBedrms Longitude',\n",
       "       'Population^2', 'Population AveOccup', 'Population Latitude',\n",
       "       'Population Longitude', 'AveOccup^2', 'AveOccup Latitude',\n",
       "       'AveOccup Longitude', 'Latitude^2', 'Latitude Longitude',\n",
       "       'Longitude^2'], dtype=object)"
      ]
     },
     "execution_count": 21,
     "metadata": {},
     "output_type": "execute_result"
    }
   ],
   "source": [
    "degree = 2\n",
    "poly = PolynomialFeatures(degree, include_bias=True)\n",
    "poly.fit(california.data)\n",
    "feature_names = poly.get_feature_names_out(california.feature_names)\n",
    "data_with_features = poly.transform(california.data)\n",
    "feature_names"
   ]
  },
  {
   "cell_type": "code",
   "execution_count": 24,
   "metadata": {},
   "outputs": [
    {
     "name": "stdout",
     "output_type": "stream",
     "text": [
      "Population^2 2.737795767870921e-09\n"
     ]
    }
   ],
   "source": [
    "model = LinearRegression()\n",
    "model.fit(data_with_features, california.target)\n",
    "coefficients = model.coef_\n",
    "index = np.argmin(np.abs(coefficients))\n",
    "print(feature_names[index] + ' ' + str(coefficients[index]))"
   ]
  }
 ],
 "metadata": {
  "kernelspec": {
   "display_name": "Python 3.10.7 64-bit",
   "language": "python",
   "name": "python3"
  },
  "language_info": {
   "codemirror_mode": {
    "name": "ipython",
    "version": 3
   },
   "file_extension": ".py",
   "mimetype": "text/x-python",
   "name": "python",
   "nbconvert_exporter": "python",
   "pygments_lexer": "ipython3",
   "version": "3.10.7"
  },
  "orig_nbformat": 4,
  "vscode": {
   "interpreter": {
    "hash": "26de051ba29f2982a8de78e945f0abaf191376122a1563185a90213a26c5da77"
   }
  }
 },
 "nbformat": 4,
 "nbformat_minor": 2
}

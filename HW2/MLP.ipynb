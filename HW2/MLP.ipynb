{
  "cells": [
    {
      "cell_type": "markdown",
      "metadata": {
        "id": "jMDM_8UF7jW_"
      },
      "source": [
        "# Question 6"
      ]
    },
    {
      "cell_type": "code",
      "execution_count": 1,
      "metadata": {
        "id": "ENblnfHo9ZS5"
      },
      "outputs": [],
      "source": [
        "# To DO \n",
        "# implement the activation and its derivative\n",
        "\n",
        "import numpy as np\n",
        "\n",
        "def activation(x):\n",
        "    return 1/(1+np.exp(-x))\n",
        "\n",
        "\n",
        "\n",
        "\n",
        "def activation_derivative(x):\n",
        "    return activation(x)*(1-activation(x)) "
      ]
    },
    {
      "cell_type": "code",
      "execution_count": 2,
      "metadata": {
        "id": "fkinwPxR-tzB"
      },
      "outputs": [],
      "source": [
        "# To DO \n",
        "# implement the loss its derivative\n",
        "def compute_loss(predicted_op, true_y):\n",
        "    loss = 0\n",
        "    return loss\n",
        "\n",
        "def loss_derivative(x):\n",
        "    return "
      ]
    },
    {
      "cell_type": "code",
      "execution_count": 3,
      "metadata": {
        "id": "SbtyV0Bh7ZmC"
      },
      "outputs": [],
      "source": [
        "# TO DO \n",
        "# organize the training data into batches\n",
        "def make_batches(x_train, y_train, batch_size):\n",
        "\n",
        "    return x_batches, y_batches"
      ]
    },
    {
      "cell_type": "code",
      "execution_count": 4,
      "metadata": {
        "id": "6WPxFybEy0ML"
      },
      "outputs": [],
      "source": [
        "# TO DO \n",
        "def forward_pass(x_batch, y_batch):\n",
        "\n",
        "  return predicted_op\n"
      ]
    },
    {
      "cell_type": "code",
      "execution_count": 5,
      "metadata": {
        "id": "5odxcSaWzP6c"
      },
      "outputs": [],
      "source": [
        "# TO DO \n",
        "def backward_pass(loss):\n",
        "\n",
        "  return grads"
      ]
    },
    {
      "cell_type": "code",
      "execution_count": 7,
      "metadata": {
        "id": "Pxo61LUjzlB_"
      },
      "outputs": [],
      "source": [
        "#TO DO\n",
        "def update_weights(weights, grads, lr):\n",
        "\n",
        "  return"
      ]
    },
    {
      "cell_type": "code",
      "execution_count": 8,
      "metadata": {
        "id": "zxDJLFXsE1-O"
      },
      "outputs": [],
      "source": [
        "# To Do\n",
        "# define you stopping criteria for training\n",
        "def stopping_criteria():\n",
        "  stop = False\n",
        "  return stop"
      ]
    },
    {
      "cell_type": "code",
      "execution_count": 9,
      "metadata": {
        "id": "uv6XNf5WETxn"
      },
      "outputs": [],
      "source": [
        "# TO DO\n",
        "# Define the hyperparameters. Add any additional hyperparameters you might need\n",
        "lr = 0  # learning rate\n",
        "batch_size = 0\n",
        "num_epochs = 0"
      ]
    },
    {
      "cell_type": "code",
      "execution_count": 10,
      "metadata": {
        "id": "oU6_R9PZEnFr"
      },
      "outputs": [],
      "source": [
        "def train(x_train, y_train, lr, batch_size, num_epochs):\n",
        "\n",
        "  while not stopping_criteria():\n",
        "      # TO DO \n",
        "      # get a batch from the data\n",
        "      x_batch, y_batch = [], []\n",
        "\n",
        "      # forward the batch through the network layers\n",
        "      predicted_op = forward_pass(x_batch)\n",
        "\n",
        "      # compute the loss\n",
        "      loss = compute_loss(predicted_op, y_batch)\n",
        "\n",
        "      # perform backward pass\n",
        "      grads = backward_pass(loss)\n",
        "\n",
        "      # update the weights of the network\n",
        "      update_weights(network, grads, lr)\n"
      ]
    },
    {
      "cell_type": "code",
      "execution_count": null,
      "metadata": {
        "id": "9RrDycnT_Nti"
      },
      "outputs": [],
      "source": []
    }
  ],
  "metadata": {
    "colab": {
      "collapsed_sections": [],
      "name": "MLP.ipynb",
      "provenance": []
    },
    "kernelspec": {
      "display_name": "Python 3",
      "language": "python",
      "name": "python3"
    },
    "language_info": {
      "name": "python",
      "version": "3.11.0 (main, Oct 24 2022, 18:26:48) [MSC v.1933 64 bit (AMD64)]"
    },
    "vscode": {
      "interpreter": {
        "hash": "0cf8ac0564ff7ae2cd6c6c9480ee3a7abc898a9b4955a7154d54a31a99640393"
      }
    }
  },
  "nbformat": 4,
  "nbformat_minor": 0
}

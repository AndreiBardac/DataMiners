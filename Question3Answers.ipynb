{
 "cells": [
  {
   "cell_type": "markdown",
   "metadata": {},
   "source": [
    "# Question 3"
   ]
  },
  {
   "cell_type": "code",
   "execution_count": null,
   "metadata": {},
   "outputs": [],
   "source": [
    "#A: True - The data is linearly seperable \n",
    "#B: False - No, as it didnt take into account the procedure that was taught in the course\n",
    "#C: True - Yes they are\n",
    "#D: False - 3 out of 4 (75%) of the class 1 validation set datapoints are misclassified"
   ]
  }
 ],
 "metadata": {
  "kernelspec": {
   "display_name": "Python 3",
   "language": "python",
   "name": "python3"
  },
  "language_info": {
   "codemirror_mode": {
    "name": "ipython",
    "version": 3
   },
   "file_extension": ".py",
   "mimetype": "text/x-python",
   "name": "python",
   "nbconvert_exporter": "python",
   "pygments_lexer": "ipython3",
   "version": "3.7.6"
  },
  "vscode": {
   "interpreter": {
    "hash": "e6d97748579601150bf906f2f4f5b2c097ceaf11e2f2d67107ef06cb96e54155"
   }
  }
 },
 "nbformat": 4,
 "nbformat_minor": 2
}

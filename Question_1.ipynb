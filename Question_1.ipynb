{
 "cells": [
  {
   "cell_type": "markdown",
   "metadata": {},
   "source": [
    "# Question 1"
   ]
  },
  {
   "cell_type": "code",
   "execution_count": 1,
   "metadata": {},
   "outputs": [],
   "source": [
    "import sympy as sym\n",
    "import math"
   ]
  },
  {
   "cell_type": "code",
   "execution_count": 2,
   "metadata": {},
   "outputs": [],
   "source": [
    "#Derivate Functions\n",
    "\n",
    "def fun(x,y):\n",
    "    return (x**4) + (4*x*y)+(2*y)+((0.5)*(y**2))\n",
    "def grad_f(x, y):\n",
    "    return 4*(x**3)+ 4*y, 4*x + y + 2"
   ]
  },
  {
   "cell_type": "code",
   "execution_count": 3,
   "metadata": {},
   "outputs": [],
   "source": [
    "# Gradient Descent\n",
    "\n",
    "def gradient_descent(f, grad_f, eta, x_0, max_iter):\n",
    "    x = x_0\n",
    "    x_temp = [0,0]\n",
    "    for t in range (max_iter): \n",
    "        x_temp[0] = x[0] - (eta(t)*grad_f(x[0], x[1])[0])\n",
    "        x_temp[1] = x[1] - (eta(t)*grad_f(x[0], x[1])[1])\n",
    "        x = x_temp\n",
    "    return f(x_temp[0], x_temp[1])"
   ]
  },
  {
   "cell_type": "code",
   "execution_count": 4,
   "metadata": {},
   "outputs": [],
   "source": [
    "# Eta Functions\n",
    "\n",
    "def eta_const(t, c=0.01):\n",
    "    return c\n",
    "\n",
    "def eta_sqrt(t,c=0.1):\n",
    "    step = c/(math.pow((t+1), (1/2)))\n",
    "    return step\n",
    "\n",
    "def eta_multistep(t, milestones=[10, 60, 90], c=0.5, eta_init=0.1):\n",
    "    i = 0\n",
    "    for i in range(len(milestones)):\n",
    "        if t < milestones[i]:\n",
    "            return eta_init*math.pow(c,i)\n",
    "    return eta_init*math.pow(c, len(milestones))\n",
    "    "
   ]
  },
  {
   "cell_type": "code",
   "execution_count": 5,
   "metadata": {},
   "outputs": [
    {
     "name": "stdout",
     "output_type": "stream",
     "text": [
      "-16.095479049036747\n",
      "-27.693245172855633\n",
      "-34.71935796851934\n"
     ]
    }
   ],
   "source": [
    "print(gradient_descent(fun, grad_f, eta_const, [1, 1], 100))\n",
    "print(gradient_descent(fun, grad_f, eta_sqrt, [1, 1], 100))\n",
    "print(gradient_descent(fun, grad_f, eta_multistep, [1, 1], 100))"
   ]
  }
 ],
 "metadata": {
  "kernelspec": {
   "display_name": "Python 3",
   "language": "python",
   "name": "python3"
  },
  "language_info": {
   "codemirror_mode": {
    "name": "ipython",
    "version": 3
   },
   "file_extension": ".py",
   "mimetype": "text/x-python",
   "name": "python",
   "nbconvert_exporter": "python",
   "pygments_lexer": "ipython3",
   "version": "3.7.6"
  },
  "vscode": {
   "interpreter": {
    "hash": "3ef475aa82cb185c34539117850a7111a35621346e50558066231154581a6863"
   }
  }
 },
 "nbformat": 4,
 "nbformat_minor": 2
}

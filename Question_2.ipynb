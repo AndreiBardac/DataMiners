{
 "cells": [
  {
   "cell_type": "markdown",
   "metadata": {},
   "source": [
    "# Question 2"
   ]
  },
  {
   "cell_type": "code",
   "execution_count": 6,
   "metadata": {},
   "outputs": [],
   "source": [
    "#Import Function \n",
    "import math"
   ]
  },
  {
   "cell_type": "code",
   "execution_count": 7,
   "metadata": {},
   "outputs": [],
   "source": [
    "#Derivative Function\n",
    "\n",
    "def f(x1, x2, x3):\n",
    "    return 0.5*(x1**4) - (x1*x2) + (x2**2) + (x2*x3) + (x3**2)\n",
    "\n",
    "def argmin_x1(a):\n",
    "    if a[1] >= 0:\n",
    "        b = math.pow((a[1]/2), (1/3))\n",
    "    else: \n",
    "        b = (-1) * math.pow(((-a[1])/2), (1/3))\n",
    "    return b\n",
    "\n",
    "def argmin_x2(a):\n",
    "    b = (a[0]-a[2])/2\n",
    "    return b\n",
    "\n",
    "def argmin_x3(a):\n",
    "    b = -a[1]/2\n",
    "    return b"
   ]
  },
  {
   "cell_type": "code",
   "execution_count": 22,
   "metadata": {},
   "outputs": [],
   "source": [
    "# Coordinate Descent\n",
    "def coordinate_descent(f, x_0, max_iter=100):\n",
    "    x_temp = x_0\n",
    "    for t in range(max_iter):\n",
    "        x_temp[0] = argmin_x1(x_temp)\n",
    "        x_temp[1] = argmin_x2(x_temp)\n",
    "        x_temp[2] = argmin_x3(x_temp)\n",
    "    return(x_temp)"
   ]
  },
  {
   "cell_type": "code",
   "execution_count": 23,
   "metadata": {},
   "outputs": [
    {
     "name": "stdout",
     "output_type": "stream",
     "text": [
      "-0.5773502691896258\n"
     ]
    }
   ],
   "source": [
    "# Calculations \n",
    "argmin = 1\n",
    "a=coordinate_descent(f, [5,10,5], 100)[0]\n",
    "print(a)\n"
   ]
  },
  {
   "cell_type": "code",
   "execution_count": 14,
   "metadata": {},
   "outputs": [
    {
     "name": "stdout",
     "output_type": "stream",
     "text": [
      "-0.055555555555555566\n"
     ]
    }
   ],
   "source": [
    "x= -0.5773502691896258\n",
    "y= -0.3849001794597506\n",
    "z= 0.1924500897298753\n",
    "\n",
    "print((1/2)*x**4 - x*y + y**2 + y*z + z**2)"
   ]
  },
  {
   "cell_type": "code",
   "execution_count": null,
   "metadata": {},
   "outputs": [],
   "source": []
  }
 ],
 "metadata": {
  "kernelspec": {
   "display_name": "Python 3",
   "language": "python",
   "name": "python3"
  },
  "language_info": {
   "codemirror_mode": {
    "name": "ipython",
    "version": 3
   },
   "file_extension": ".py",
   "mimetype": "text/x-python",
   "name": "python",
   "nbconvert_exporter": "python",
   "pygments_lexer": "ipython3",
   "version": "3.11.0"
  },
  "vscode": {
   "interpreter": {
    "hash": "0cf8ac0564ff7ae2cd6c6c9480ee3a7abc898a9b4955a7154d54a31a99640393"
   }
  }
 },
 "nbformat": 4,
 "nbformat_minor": 2
}
